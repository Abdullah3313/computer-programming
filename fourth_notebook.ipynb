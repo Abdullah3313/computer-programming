{
 "cells": [
  {
   "cell_type": "code",
   "execution_count": 1,
   "id": "6885fec0-e3ff-4869-82b0-0c1e75bcdf07",
   "metadata": {},
   "outputs": [
    {
     "name": "stdout",
     "output_type": "stream",
     "text": [
      "This is my fourth Jupyter notebook!\n"
     ]
    }
   ],
   "source": [
    "print(\"This is my fourth Jupyter notebook!\")"
   ]
  },
  {
   "cell_type": "code",
   "execution_count": null,
   "id": "68f12ed5-601f-4898-bff6-45787ccd4777",
   "metadata": {},
   "outputs": [],
   "source": []
  }
 ],
 "metadata": {
  "kernelspec": {
   "display_name": "Python 3 (ipykernel)",
   "language": "python",
   "name": "python3"
  },
  "language_info": {
   "codemirror_mode": {
    "name": "ipython",
    "version": 3
   },
   "file_extension": ".py",
   "mimetype": "text/x-python",
   "name": "python",
   "nbconvert_exporter": "python",
   "pygments_lexer": "ipython3",
   "version": "3.14.0"
  }
 },
 "nbformat": 4,
 "nbformat_minor": 5
}
