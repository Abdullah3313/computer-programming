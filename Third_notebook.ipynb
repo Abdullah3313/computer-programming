{
 "cells": [
  {
   "cell_type": "code",
   "execution_count": 1,
   "id": "f96f6db2-f737-4afc-9fd6-4802bd8a8cd9",
   "metadata": {},
   "outputs": [
    {
     "name": "stdout",
     "output_type": "stream",
     "text": [
      "This is my third Jupyter notebook!\n"
     ]
    }
   ],
   "source": [
    "print(\"This is my third Jupyter notebook!\")"
   ]
  },
  {
   "cell_type": "code",
   "execution_count": null,
   "id": "b2db569a-9f48-4eaa-8c5f-d257e5f7a480",
   "metadata": {},
   "outputs": [],
   "source": []
  }
 ],
 "metadata": {
  "kernelspec": {
   "display_name": "Python 3 (ipykernel)",
   "language": "python",
   "name": "python3"
  },
  "language_info": {
   "codemirror_mode": {
    "name": "ipython",
    "version": 3
   },
   "file_extension": ".py",
   "mimetype": "text/x-python",
   "name": "python",
   "nbconvert_exporter": "python",
   "pygments_lexer": "ipython3",
   "version": "3.14.0"
  }
 },
 "nbformat": 4,
 "nbformat_minor": 5
}
