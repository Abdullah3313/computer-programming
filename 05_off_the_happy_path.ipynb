{
 "cells": [
  {
   "cell_type": "markdown",
   "id": "05ac9f61",
   "metadata": {},
   "source": [
    "# Computer Programming"
   ]
  },
  {
   "cell_type": "markdown",
   "id": "d73f073b",
   "metadata": {},
   "source": [
    "## Programs 4: Leaving the Happy Path\n",
    "\n",
    "So far we have been writing programs that follow the _Happy Path_. This means that we have been assuming that the user will\n",
    "enter values that are useful and that the program will not encounter any problems. This is a good way to start, as it allows us\n",
    "to focus on the basic structure of the program without getting bogged down in error handling and other complexities.\n",
    "\n",
    "As we will see, a lot of code in a program is devoted to handling errors and unexpected situations. This is an important part of programming, but it can also make the code more complex and harder to read. \n",
    "\n",
    "Coding the Happy Path first is a common way to develop a new system. Users can give feeback on how things look, and the system can be changed if needed. It is also a useful way to allow error conditions to emerge, as the Happy Path is tested.\n",
    "\n",
    "In the programs below, we will leave the Happy Path and start to handle errors and unexpected situations. But first, the usual\n",
    "practice."
   ]
  },
  {
   "cell_type": "markdown",
   "id": "2af192fa",
   "metadata": {},
   "source": [
    "As usual, once finished, make sure this Notebook ends up in your GitHub repo. You should know the commands by now!"
   ]
  },
  {
   "cell_type": "markdown",
   "id": "d32abbd2",
   "metadata": {},
   "source": [
    "## Practice\n",
    "\n",
    "Remember that there are two ways to handle errors. We can test the data before we process it (that's _Look Before You Leap_), or we can handle the error when it occurs (that's _Easier to Ask for Forgiveness than Permission_). We will see both approaches in this Notebook.\n",
    "\n",
    "As usual, where program code is needed, create code blocks below each Markdown block below. You will need a few!"
   ]
  },
  {
   "cell_type": "markdown",
   "id": "0b5d8cac",
   "metadata": {},
   "source": [
    "_What statement introduces a conditional statement in Python?_"
   ]
  },
  {
   "cell_type": "markdown",
   "id": "7fbaeab1",
   "metadata": {},
   "source": [
    "_And how is this used to handle two possible situations? Three? Four?_"
   ]
  },
  {
   "cell_type": "markdown",
   "id": "2b541f3d",
   "metadata": {},
   "source": [
    "_And what structure allows for an EAFP approach?_"
   ]
  },
  {
   "cell_type": "markdown",
   "id": "889e1db6",
   "metadata": {},
   "source": [
    "_Use a conditional to read a string from `input` and display whether or not it is longer than four characters._"
   ]
  },
  {
   "cell_type": "markdown",
   "id": "ade4cb10",
   "metadata": {},
   "source": [
    "_And to a string from `input` and display whether or not it starts with an uppercase letter._"
   ]
  },
  {
   "cell_type": "markdown",
   "id": "8c7e29b6",
   "metadata": {},
   "source": [
    "_**Small Challenge**_\n",
    "\n",
    "_Read a string from input and display whether or not the user actually entered anything!_"
   ]
  },
  {
   "cell_type": "markdown",
   "id": "529ca3f4",
   "metadata": {},
   "source": [
    "_Write a short program that prompts the user to enter an integer, and displays whether or not they really did (that is, whether what they entered really was an integer)._"
   ]
  },
  {
   "cell_type": "markdown",
   "id": "aff221f0",
   "metadata": {},
   "source": [
    "_Now read an integer, and determine whether or not it was zero. Give an error if an integer was not entered. You'll need at least two checks._"
   ]
  },
  {
   "cell_type": "markdown",
   "id": "b4c2dcc8",
   "metadata": {},
   "source": [
    "_Last time you wrote a loop to add up the numbers from 1 to 10 inclusive. Change that (add the new code below) so that the upper limit is entered.\n",
    "Trap the possible errors (there will be a few!)_"
   ]
  },
  {
   "cell_type": "markdown",
   "id": "d5183b30",
   "metadata": {},
   "source": [
    "_And finish by extending the last code so that the lower and upper limits are both entered. There is now an extra error case. (Don't worry too much about getting exact error messages.)_"
   ]
  },
  {
   "cell_type": "markdown",
   "id": "fdd69b35",
   "metadata": {},
   "source": [
    "## Programs\n",
    "\n",
    "Here we go. As you work through these pay attention to when we use EAFP and when we use LBYL. Sometimes there is a choice. Other times there is really only one way. If there *is* a choice, EAFP is often neatest.\n",
    "\n",
    "And some of the programs here are going to be quite long. Remember to pay attention to the names of variables, so that it's obvious what your program is doing. Blank lines can also help show the structure. A good program should look *good*."
   ]
  },
  {
   "cell_type": "markdown",
   "id": "7f95c97d",
   "metadata": {},
   "source": [
    "_Last time, we had a program that converted litres to pints. Let's convert miles to kilometres this time. Of course, you can't have a negative mile, so the program will need to check the value entered for the number of miles (LBYL) and only display the result if the value entered is greater than or equal to zero._\n",
    "\n",
    "_Once that is working, have the code display an error message if an invalid value is entered._"
   ]
  },
  {
   "cell_type": "code",
   "execution_count": 3,
   "id": "20b1834c",
   "metadata": {},
   "outputs": [
    {
     "name": "stdout",
     "output_type": "stream",
     "text": [
      "19.31\n"
     ]
    }
   ],
   "source": [
    "miles = float(input())\n",
    "if miles >= 0:\n",
    "    kilometres = miles * 1.60934\n",
    "    print(round(kilometres, 2))\n",
    "else:\n",
    "    print(\"Error: Distance cannot be negative!\")\n"
   ]
  },
  {
   "cell_type": "markdown",
   "id": "4e77007f",
   "metadata": {},
   "source": [
    "_Did you assume that the user would enter a number? Probably! If you run the code again and enter a string you will see that the it crashes because it cannot convert the string to a number. This is a case where we can use EAFP to catch the error if it happens. You can see from the output that the error is a `ValueError`. Amend the code (enter it below) to `try` the calculation and display an errot message if the `except`ion is detected._"
   ]
  },
  {
   "cell_type": "code",
   "execution_count": 4,
   "id": "0cbfb1cd",
   "metadata": {},
   "outputs": [
    {
     "name": "stdout",
     "output_type": "stream",
     "text": [
      "106.22\n"
     ]
    }
   ],
   "source": [
    "try:\n",
    "    miles = float(input())\n",
    "    if miles >= 0:\n",
    "        kilometres = miles * 1.60934\n",
    "        print(round(kilometres, 2))\n",
    "    else:\n",
    "        print(\"Error: Distance cannot be negative!\")\n",
    "except ValueError:\n",
    "    print(\"Error: Please enter a valid number!\")\n"
   ]
  },
  {
   "cell_type": "markdown",
   "id": "cc9ecc5a",
   "metadata": {},
   "source": [
    "_Suppose a kindly teacher has some sweets to share between a class of students (it can happen). Write a program below that takes twp inputs - the number of sweets and the number of students (both integers), and displays how many sweets each student gets (everyone gets the same), and how many will be left over for the teacher._\n",
    "\n",
    "_Code the Happy Path first, in the box below._"
   ]
  },
  {
   "cell_type": "code",
   "execution_count": 5,
   "id": "b847b7d4",
   "metadata": {},
   "outputs": [
    {
     "name": "stdout",
     "output_type": "stream",
     "text": [
      "Each student gets: 0\n",
      "Leftover for the teacher: 11\n"
     ]
    }
   ],
   "source": [
    "sweets = int(input(\"Enter the number of sweets: \"))\n",
    "students = int(input(\"Enter the number of students: \"))\n",
    "\n",
    "sweets_per_student = sweets // students\n",
    "leftover = sweets % students\n",
    "\n",
    "print(\"Each student gets:\", sweets_per_student)\n",
    "print(\"Leftover for the teacher:\", leftover)\n"
   ]
  },
  {
   "cell_type": "markdown",
   "id": "7e196ff5",
   "metadata": {},
   "source": [
    "_Now for some LBYL. We can't have negative values for the sweets or students. Zero would make sense, though. So add code now to detect these error cases and display a message. Can you get a different message for each case?_\n",
    "\n",
    "_For full marks here (!), the program should really not ask for the number of students if the number of sweets is invalid._"
   ]
  },
  {
   "cell_type": "code",
   "execution_count": 6,
   "id": "6367b6c1",
   "metadata": {},
   "outputs": [
    {
     "name": "stdout",
     "output_type": "stream",
     "text": [
      "Each student gets: 0\n",
      "Leftover for the teacher: 22\n"
     ]
    }
   ],
   "source": [
    "sweets = int(input(\"Enter the number of sweets: \"))\n",
    "\n",
    "if sweets < 0:\n",
    "    print(\"Error: Number of sweets cannot be negative!\")\n",
    "else:\n",
    "    students = int(input(\"Enter the number of students: \"))\n",
    "    if students < 0:\n",
    "        print(\"Error: Number of students cannot be negative!\")\n",
    "    elif students == 0:\n",
    "        print(\"No students to share the sweets with.\")\n",
    "    else:\n",
    "        sweets_per_student = sweets // students\n",
    "        leftover = sweets % students\n",
    "        print(\"Each student gets:\", sweets_per_student)\n",
    "        print(\"Leftover for the teacher:\", leftover)\n"
   ]
  },
  {
   "cell_type": "markdown",
   "id": "105bb82f",
   "metadata": {},
   "source": [
    "_You can probably see by now how error-checking code can obscure what's really going on. There are still other errors possible here - what happens if the user enters a value that cannot be converted into an integer? Add some EAFP code to trap this (it will be enough to catch the Exception once, from either of the places it could be thrown)._"
   ]
  },
  {
   "cell_type": "code",
   "execution_count": 7,
   "id": "47a005a8",
   "metadata": {},
   "outputs": [
    {
     "name": "stdout",
     "output_type": "stream",
     "text": [
      "Each student gets: 16\n",
      "Leftover for the teacher: 1\n"
     ]
    }
   ],
   "source": [
    "try:\n",
    "    sweets = int(input(\"Enter the number of sweets: \"))\n",
    "    if sweets < 0:\n",
    "        print(\"Error: Number of sweets cannot be negative!\")\n",
    "    else:\n",
    "        students = int(input(\"Enter the number of students: \"))\n",
    "        if students < 0:\n",
    "            print(\"Error: Number of students cannot be negative!\")\n",
    "        elif students == 0:\n",
    "            print(\"No students to share the sweets with.\")\n",
    "        else:\n",
    "            sweets_per_student = sweets // students\n",
    "            leftover = sweets % students\n",
    "            print(\"Each student gets:\", sweets_per_student)\n",
    "            print(\"Leftover for the teacher:\", leftover)\n",
    "except ValueError:\n",
    "    print(\"Error: Please enter valid integer numbers!\")\n"
   ]
  },
  {
   "cell_type": "markdown",
   "id": "bc6154e9",
   "metadata": {},
   "source": [
    "_There's still another error. 0 sweets is fine, even though it would just be a sad day. But 0 students will make the program crash when it tries to divide by zero. We could use EAFP or LBYL here, but EAFP will be neater, and will keep the code out of the way. After all, trying to divide something between no-one is not very likely. If you try to enter a zero you will see it's a `ZeroDivisionError` that needs to be caught. Add that in (it's just two more lines) below._"
   ]
  },
  {
   "cell_type": "code",
   "execution_count": 8,
   "id": "e625d1f1",
   "metadata": {},
   "outputs": [
    {
     "name": "stdout",
     "output_type": "stream",
     "text": [
      "Each student gets: 1\n",
      "Leftover for the teacher: 1\n"
     ]
    }
   ],
   "source": [
    "try:\n",
    "    sweets = int(input(\"Enter the number of sweets: \"))\n",
    "    students = int(input(\"Enter the number of students: \"))\n",
    "    sweets_per_student = sweets // students\n",
    "    leftover = sweets % students\n",
    "    print(\"Each student gets:\", sweets_per_student)\n",
    "    print(\"Leftover for the teacher:\", leftover)\n",
    "except ValueError:\n",
    "    print(\"Error: Please enter valid integer numbers!\")\n",
    "except ZeroDivisionError:\n",
    "    print(\"Error: Cannot divide by zero students!\")\n",
    "\n"
   ]
  },
  {
   "cell_type": "markdown",
   "id": "26c2db0d",
   "metadata": {},
   "source": [
    "_Programming is all about spotting patterns. Recognising that a new problem is actually one you have seen before._\n",
    "\n",
    "_Below, write code that would take two inputs, which are marks on a test, scored on a scale of 0 to 100. Both is worth 50%, so the overall mark is just the average. Your code should display the overall grade (`round` the average)._\n",
    "\n",
    "_**Start with the Happy Path.** _Then spot and add code for the various possible errors._ _Add more code blocks to the Notebook if you want._ Add more Markdown blocks to help you work out the problem if it helps._"
   ]
  },
  {
   "cell_type": "code",
   "execution_count": 9,
   "id": "615241b3",
   "metadata": {},
   "outputs": [
    {
     "name": "stdout",
     "output_type": "stream",
     "text": [
      "Overall mark: 78\n"
     ]
    }
   ],
   "source": [
    "# Get two marks from the user\n",
    "mark1 = float(input(\"Enter the first mark (0-100): \"))\n",
    "mark2 = float(input(\"Enter the second mark (0-100): \"))\n",
    "\n",
    "# Calculate the average\n",
    "average = (mark1 + mark2) / 2\n",
    "\n",
    "# Display the rounded result\n",
    "print(\"Overall mark:\", round(average))\n"
   ]
  },
  {
   "cell_type": "code",
   "execution_count": 10,
   "id": "bcd9d708",
   "metadata": {},
   "outputs": [
    {
     "name": "stdout",
     "output_type": "stream",
     "text": [
      "Overall mark: 58\n"
     ]
    }
   ],
   "source": [
    "mark1 = float(input(\"Enter the first mark (0-100): \"))\n",
    "mark2 = float(input(\"Enter the second mark (0-100): \"))\n",
    "\n",
    "if not (0 <= mark1 <= 100):\n",
    "    print(\"Error: First mark must be between 0 and 100!\")\n",
    "elif not (0 <= mark2 <= 100):\n",
    "    print(\"Error: Second mark must be between 0 and 100!\")\n",
    "else:\n",
    "    average = (mark1 + mark2) / 2\n",
    "    print(\"Overall mark:\", round(average))\n"
   ]
  },
  {
   "cell_type": "code",
   "execution_count": 11,
   "id": "58fcf157",
   "metadata": {},
   "outputs": [
    {
     "name": "stdout",
     "output_type": "stream",
     "text": [
      "Overall mark: 88\n"
     ]
    }
   ],
   "source": [
    "try:\n",
    "    mark1 = float(input(\"Enter the first mark (0-100): \"))\n",
    "    mark2 = float(input(\"Enter the second mark (0-100): \"))\n",
    "    \n",
    "    if not (0 <= mark1 <= 100):\n",
    "        print(\"Error: First mark must be between 0 and 100!\")\n",
    "    elif not (0 <= mark2 <= 100):\n",
    "        print(\"Error: Second mark must be between 0 and 100!\")\n",
    "    else:\n",
    "        average = (mark1 + mark2) / 2\n",
    "        print(\"Overall mark:\", round(average))\n",
    "except ValueError:\n",
    "    print(\"Error: Please enter valid numbers!\")\n"
   ]
  },
  {
   "cell_type": "markdown",
   "id": "89a82f89",
   "metadata": {},
   "source": [
    "_Programming is all about spotting patterns. Recognising that a new problem is actually one you have seen before._\n",
    "\n",
    "_Below, write code that would take two inputs, which are marks on a test, scored on a scale of 0 to 100. Both is worth 50%, so the overall mark is just the average. Your code should display the overall grade (`round` the average)._\n",
    "\n",
    "_**Start with the Happy Path.** _Then spot and add code for the various possible errors._ _Add more code blocks to the Notebook if you want._ Add more Markdown blocks to help you work out the problem if it helps._"
   ]
  },
  {
   "cell_type": "markdown",
   "id": "08a034ba",
   "metadata": {},
   "source": [
    "_Note: Another programming trick is to think that there really must be a built-in way to do that. The average is one. Take a look at https://docs.python.org/3/library/statistics.html and you'll find it._"
   ]
  },
  {
   "cell_type": "markdown",
   "id": "c0513814",
   "metadata": {},
   "source": [
    "### Challenge\n",
    "\n",
    "_Here is a classic programming problem._\n",
    "\n",
    "_Write a program that takes two inputs, the total amount of a restaurant bill, and the amount tendered by the customer. The first output should be the total change due._\n",
    "\n",
    "_The inputs here are floating-point, to represent money. Don't worry if there are too many decimal places entered!_\n",
    "\n",
    "_Think about the error conditions here. Most we have seen before, but there is a new one. What should happen if the amount tendered is not enough to pay the bill?_\n",
    "\n",
    "_But remember **abstraction**. This problem is actually not far off one of the examples right up the top._\n",
    "\n",
    "__You may want to add extra code blocks below so that you can work on versions of this program. That would probably be a very good idea, in fact!__"
   ]
  },
  {
   "cell_type": "code",
   "execution_count": 12,
   "id": "9be79ad7",
   "metadata": {},
   "outputs": [
    {
     "name": "stdout",
     "output_type": "stream",
     "text": [
      "Change due: $ -28.0\n"
     ]
    }
   ],
   "source": [
    "bill_total = float(input(\"Enter the total bill amount: \"))\n",
    "amount_tendered = float(input(\"Enter the amount tendered: \"))\n",
    "\n",
    "change = amount_tendered - bill_total\n",
    "print(\"Change due: $\", round(change, 2))\n"
   ]
  },
  {
   "cell_type": "code",
   "execution_count": 13,
   "id": "78547d10",
   "metadata": {},
   "outputs": [
    {
     "name": "stdout",
     "output_type": "stream",
     "text": [
      "Change due: $ 0.0\n"
     ]
    }
   ],
   "source": [
    "bill_total = float(input(\"Enter the total bill amount: \"))\n",
    "\n",
    "if bill_total < 0:\n",
    "    print(\"Error: Bill total cannot be negative!\")\n",
    "else:\n",
    "    amount_tendered = float(input(\"Enter the amount tendered: \"))\n",
    "    if amount_tendered < 0:\n",
    "        print(\"Error: Amount tendered cannot be negative!\")\n",
    "    elif amount_tendered < bill_total:\n",
    "        print(\"Error: Amount tendered is not enough to cover the bill!\")\n",
    "    else:\n",
    "        change = amount_tendered - bill_total\n",
    "        print(\"Change due: $\", round(change, 2))\n"
   ]
  },
  {
   "cell_type": "markdown",
   "id": "7eb51119",
   "metadata": {},
   "source": [
    "_Finish this week by creating a program to show the best way to provide the change, in the smallest possible number of notes and coins.Your program should take as input the amount of change to be given, and then output how to make the change._\n",
    "\n",
    "_We'll assume that the change will just be given in coins. Coins exist for £2, £1, 50p, 20p, 10p, 5p, 2p, 1p._\n",
    "\n",
    "_Hint: Although the number entered will be floating point, it will probably be easiest to convert it into an integer (the amount of pennies). Ignore the issue of more than two decimal places._\n",
    "\n",
    "_Another Hint: If you find yourself writing a program with about 10 `if` statements you should pause and think about whether there is a better way. (There is.)_"
   ]
  },
  {
   "cell_type": "code",
   "execution_count": 14,
   "id": "555af601",
   "metadata": {},
   "outputs": [
    {
     "name": "stdout",
     "output_type": "stream",
     "text": [
      "£2 x 61\n"
     ]
    }
   ],
   "source": [
    "try:\n",
    "    change = float(input(\"Enter the amount of change to be given (£): \"))\n",
    "    if change < 0:\n",
    "        print(\"Error: Change amount cannot be negative!\")\n",
    "    else:\n",
    "        pennies = round(change * 100)\n",
    "        coins = [200, 100, 50, 20, 10, 5, 2, 1]\n",
    "        coin_names = [\"£2\", \"£1\", \"50p\", \"20p\", \"10p\", \"5p\", \"2p\", \"1p\"]\n",
    "\n",
    "        for i in range(len(coins)):\n",
    "            count = pennies // coins[i]\n",
    "            pennies = pennies % coins[i]\n",
    "            if count > 0:\n",
    "                print(coin_names[i] + \" x \" + str(count))\n",
    "except ValueError:\n",
    "    print(\"Error: Please enter a valid number!\")\n"
   ]
  },
  {
   "cell_type": "markdown",
   "id": "bb607b8c",
   "metadata": {},
   "source": [
    "_Don't worry if you find this last program challenging. To get started, think about how you would work it out in real life. You would start with the biggest note or coin, see how many of those you could use, knock that off the amount, and work down until you had the total needed. That sounds like a loop._\n",
    "\n",
    "_And if you really can't see a neat solution, ask your friendly tutor!_"
   ]
  },
  {
   "cell_type": "markdown",
   "id": "e4ef1919",
   "metadata": {},
   "source": [
    "## Reflection\n",
    "\n",
    "There is a lot here.\n",
    "\n",
    "If this Notebook takes a while, don't panic. If you're in doubt about anything - ask!"
   ]
  }
 ],
 "metadata": {
  "kernelspec": {
   "display_name": "Python 3",
   "language": "python",
   "name": "python3"
  },
  "language_info": {
   "codemirror_mode": {
    "name": "ipython",
    "version": 3
   },
   "file_extension": ".py",
   "mimetype": "text/x-python",
   "name": "python",
   "nbconvert_exporter": "python",
   "pygments_lexer": "ipython3",
   "version": "3.14.0"
  }
 },
 "nbformat": 4,
 "nbformat_minor": 5
}
